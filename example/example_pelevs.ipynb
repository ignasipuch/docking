{
 "cells": [
  {
   "cell_type": "markdown",
   "id": "62b748e6-2fef-409a-85cf-4e0551fcc379",
   "metadata": {},
   "source": [
    "# PELEVS usage example"
   ]
  },
  {
   "cell_type": "markdown",
   "id": "a8bb7ed0-0463-4ba1-b9e4-5365c122fb13",
   "metadata": {},
   "source": [
    "Here we import all the libraries we are going to need to use"
   ]
  },
  {
   "cell_type": "markdown",
   "id": "f806f41d-88b9-4d75-b2fd-e5e88909c980",
   "metadata": {},
   "source": [
    "# Prepare receptor\n",
    "\n",
    "The first step as always should be preparing the inputs for the library. In this case we need:\n",
    "1. Protonated receptor at the corresponding pH with PROPKA tool.\n",
    "2. A csv file with the ligands in SMILES format and with an index to identify the ligands.\n",
    "\n",
    "In this case the files are located inside original_input/.\n",
    "\n",
    "Having all the prerequisites we can begin to use the library. First we need the imports\n",
    "\n",
    "\n",
    "---"
   ]
  },
  {
   "cell_type": "code",
   "execution_count": 1,
   "id": "6f3e2f59-87cf-4385-a266-87a59e3413fd",
   "metadata": {},
   "outputs": [],
   "source": [
    "import pelevs"
   ]
  },
  {
   "cell_type": "code",
   "execution_count": 3,
   "id": "e5d2235e-f267-46ad-a9c6-505e31a1c0dd",
   "metadata": {},
   "outputs": [
    {
     "name": "stdout",
     "output_type": "stream",
     "text": [
      " -     Ligand file is already in 1_input_files/ligands.\n"
     ]
    }
   ],
   "source": [
    "receptor_path = 'original_input/gpcr.pdb'\n",
    "ligands_path = 'original_input/dataset_gpcr.csv'\n",
    "\n",
    "# Initialize inputPrepare object\n",
    "input_prepare = pelevs.inputPrepare.InputPreparation(ligands_path,receptor_path)\n",
    "\n",
    "# Set up a LigPrep job \n",
    "input_prepare.setUpLigPrepJob(pH=7.2, pH_tolerance=0.5, conformations=5)"
   ]
  },
  {
   "cell_type": "markdown",
   "id": "f9ff3300-739f-41ed-ae5e-00ecfb11bcc3",
   "metadata": {},
   "source": [
    "---\n",
    "\n",
    "With the previous code we have generated a Schrödinger job to send to the local machines with license. What is recommended is to compress in a tar the folder 2_ligprep_job/job into job.tar\n",
    "\n",
    "```tar -cvf job.tar job```\n",
    "\n",
    "Once decompresed you can just run \n",
    "\n",
    "```bash ligprep.sh```\n",
    "\n",
    "\n",
    "---\n",
    "\n",
    "\n",
    "Once the job is finished you can download the job folder entirely to the same directory."
   ]
  },
  {
   "cell_type": "code",
   "execution_count": null,
   "id": "f537054e-9668-45fe-bd47-5287eed6b41f",
   "metadata": {},
   "outputs": [],
   "source": []
  }
 ],
 "metadata": {
  "kernelspec": {
   "display_name": "Python 3 (ipykernel)",
   "language": "python",
   "name": "python3"
  },
  "language_info": {
   "codemirror_mode": {
    "name": "ipython",
    "version": 3
   },
   "file_extension": ".py",
   "mimetype": "text/x-python",
   "name": "python",
   "nbconvert_exporter": "python",
   "pygments_lexer": "ipython3",
   "version": "3.10.2"
  }
 },
 "nbformat": 4,
 "nbformat_minor": 5
}
